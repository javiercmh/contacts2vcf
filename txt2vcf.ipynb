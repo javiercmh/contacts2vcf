{
 "cells": [
  {
   "cell_type": "markdown",
   "metadata": {},
   "source": [
    "# Text file to vCards\n",
    "\n",
    "My flatmate had a very old Samsung phone. The PC Suite only let me export the contact list into PDF, which I then converted to TXT.\n",
    "My goal is to parse that and get the contacts in a vCard format so that she can import them from her \"new\" phone (Sony Ericsson w200i).\n",
    "\n",
    "## TXT part"
   ]
  },
  {
   "cell_type": "code",
   "execution_count": 51,
   "metadata": {},
   "outputs": [],
   "source": [
    "import re"
   ]
  },
  {
   "cell_type": "code",
   "execution_count": 56,
   "metadata": {},
   "outputs": [
    {
     "data": {
      "text/plain": [
       "206"
      ]
     },
     "execution_count": 56,
     "metadata": {},
     "output_type": "execute_result"
    }
   ],
   "source": [
    "with open('contacts.txt', 'r') as f:\n",
    "    contacts = f.read()\n",
    "# first contact split\n",
    "contacts = contacts.split(r'Email:')\n",
    "len(contacts)"
   ]
  },
  {
   "cell_type": "code",
   "execution_count": 144,
   "metadata": {},
   "outputs": [],
   "source": [
    "# fix contacts starting with the number of the previous contact (very specific to my txt)\n",
    "for i, contact in enumerate(contacts):\n",
    "    note_reg = r'Note:\\t\\n[+|\\d]\\d+\\t\\n'\n",
    "    if re.search(note_reg, contact):\n",
    "        contacts[i-1] += list(re.findall(note_reg, contact))[0]\n",
    "        contact = re.sub(note_reg, '', contact)"
   ]
  },
  {
   "cell_type": "code",
   "execution_count": 104,
   "metadata": {},
   "outputs": [
    {
     "data": {
      "text/plain": [
       "'Javier Carrasco'"
      ]
     },
     "execution_count": 104,
     "metadata": {},
     "output_type": "execute_result"
    }
   ],
   "source": [
    "def reverse_name(name):\n",
    "    name = name.split(', ')\n",
    "    name.reverse()\n",
    "    return ' '.join(name).strip()\n",
    "\n",
    "reverse_name('WG, Niklas')\n",
    "reverse_name(', Katja')\n",
    "reverse_name('Javier Carrasco')"
   ]
  },
  {
   "cell_type": "code",
   "execution_count": 132,
   "metadata": {},
   "outputs": [],
   "source": [
    "contacts_dict = dict()\n",
    "\n",
    "for contact in contacts:\n",
    "    name = list(re.findall('[a-zA-Z, ]+[\\t|\\n]+\\(Storage:', contact))\n",
    "    if name:\n",
    "        name = re.split('[\\n|\\t]+', name[0])[0]\n",
    "        name = reverse_name(name)\n",
    "\n",
    "        numbers = list(re.findall('[+|\\d]\\d+', contact))\n",
    "\n",
    "        if numbers:\n",
    "            numbers = [number for number in numbers if len(number) > 5]\n",
    "            contacts_dict[name] = numbers"
   ]
  },
  {
   "cell_type": "code",
   "execution_count": 133,
   "metadata": {},
   "outputs": [
    {
     "name": "stdout",
     "output_type": "stream",
     "text": [
      "204\n"
     ]
    },
    {
     "data": {
      "text/plain": [
       "['Smartphone', 'Matthias Uralt handy', 'Niklas WG']"
      ]
     },
     "execution_count": 133,
     "metadata": {},
     "output_type": "execute_result"
    }
   ],
   "source": [
    "print(len(contacts_dict))\n",
    "list(contacts_dict.keys())[:3]"
   ]
  },
  {
   "cell_type": "markdown",
   "metadata": {},
   "source": [
    "## vCard part\n",
    "\n",
    "I saw that vCard files (.vcf) can have multiple contacts one after the other. I will do the same."
   ]
  },
  {
   "cell_type": "code",
   "execution_count": 114,
   "metadata": {},
   "outputs": [],
   "source": [
    "import vobject"
   ]
  },
  {
   "cell_type": "code",
   "execution_count": 142,
   "metadata": {},
   "outputs": [],
   "source": [
    "with open('contacts.vcf', 'w', newline='') as vcf:\n",
    "    phones = ['cell', 'home', 'work']\n",
    "    for name, number in contacts_dict.items():\n",
    "        card = vobject.vCard()\n",
    "        o = card.add('fn')\n",
    "        o.value = name\n",
    "\n",
    "        for i, num in enumerate(iter(number)):\n",
    "            o = card.add('tel')\n",
    "            o.type_param = phones[i]\n",
    "            o.value = num\n",
    "        vcf.write(card.serialize())"
   ]
  }
 ],
 "metadata": {
  "interpreter": {
   "hash": "b1e3122d91e2f11a97a8e9298420b6fd0587e9800a452ee28eff167eae03c188"
  },
  "kernelspec": {
   "display_name": "Python 3.6.4 ('venv': venv)",
   "language": "python",
   "name": "python3"
  },
  "language_info": {
   "codemirror_mode": {
    "name": "ipython",
    "version": 3
   },
   "file_extension": ".py",
   "mimetype": "text/x-python",
   "name": "python",
   "nbconvert_exporter": "python",
   "pygments_lexer": "ipython3",
   "version": "3.8.5"
  },
  "orig_nbformat": 4
 },
 "nbformat": 4,
 "nbformat_minor": 2
}
